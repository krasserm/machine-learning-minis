{
 "cells": [
  {
   "cell_type": "markdown",
   "metadata": {},
   "source": [
    "# Noise-contrastive estimation\n",
    "\n",
    "See http://proceedings.mlr.press/v9/gutmann10a/gutmann10a.pdf or [Deep Learning](https://www.deeplearningbook.org/) section 18.6 for details. The following simple example estimates mean (`mu`), standard deviation (`sigma`) and normalization constant (`Z`) of a squared exponential model via noise-contrastive estimation."
   ]
  },
  {
   "cell_type": "code",
   "execution_count": 1,
   "metadata": {},
   "outputs": [],
   "source": [
    "import torch\n",
    "import numpy as np\n",
    "import matplotlib.pyplot as plt\n",
    "\n",
    "from torch import nn\n",
    "from torch import optim\n",
    "from torch.utils.data import TensorDataset, DataLoader\n",
    "\n",
    "%matplotlib inline"
   ]
  },
  {
   "cell_type": "markdown",
   "metadata": {},
   "source": [
    "## Dataset"
   ]
  },
  {
   "cell_type": "code",
   "execution_count": 2,
   "metadata": {},
   "outputs": [],
   "source": [
    "n = 300\n",
    "\n",
    "# Parameters of unknown data distribution\n",
    "mu = 3.2\n",
    "sigma = 1.9\n",
    "\n",
    "# Samples from unknown data distribution\n",
    "x1 = torch.randn((n,)) * sigma + mu\n",
    "y1 = torch.ones_like(x1)\n",
    "\n",
    "# Noise distribution (can also be uniform or something else ...)\n",
    "noise_dist = torch.distributions.Normal(x1.mean(), x1.std() * 2)\n",
    "\n",
    "# Samples from noise distribution\n",
    "x2 = noise_dist.rsample(x1.shape)\n",
    "y2 = torch.zeros_like(x2)\n",
    "\n",
    "# Training dataset\n",
    "x = torch.cat([x1, x2])\n",
    "y = torch.cat([y1, y2])"
   ]
  },
  {
   "cell_type": "code",
   "execution_count": 3,
   "metadata": {},
   "outputs": [
    {
     "data": {
      "image/png": "[encoded data removed]",
      "text/plain": [
       "<Figure size 432x288 with 1 Axes>"
      ]
     },
     "metadata": {
      "needs_background": "light"
     },
     "output_type": "display_data"
    }
   ],
   "source": [
    "density = True\n",
    "\n",
    "plt.hist(x1.numpy(), alpha=0.4, density=density, label='data distribution')\n",
    "plt.hist(x2.numpy(), alpha=0.4, density=density, label='noise distribution')\n",
    "plt.legend();"
   ]
  },
  {
   "cell_type": "markdown",
   "metadata": {},
   "source": [
    "## Training"
   ]
  },
  {
   "cell_type": "code",
   "execution_count": 4,
   "metadata": {},
   "outputs": [],
   "source": [
    "class Model(nn.Module):\n",
    "    \"\"\"\n",
    "    Squared exponential model.\n",
    "    \n",
    "    Parameters are estimated by contrasting training data \n",
    "    (from an unknown data distribution) to data from a noise \n",
    "    distribution in context of a binary classification task. \n",
    "    The model learns to predict the probability that input x \n",
    "    belongs to the data distribution.\n",
    "    \"\"\"\n",
    "    def __init__(self, noise_dist, m_0=1.0, s_0=1.0, c_0=1.0):\n",
    "        super().__init__()        \n",
    "        # Mean\n",
    "        self.m = nn.Parameter(torch.tensor(m_0))\n",
    "        # standard deviation\n",
    "        self.s = nn.Parameter(torch.tensor(s_0))\n",
    "        # log normalization constant\n",
    "        self.c = nn.Parameter(torch.tensor(c_0))\n",
    "        # noise \n",
    "        self.noise_dist = noise_dist\n",
    "        \n",
    "    def forward(self, x):\n",
    "        energy = 0.5 / self.s ** 2 * (x - self.m) ** 2\n",
    "                \n",
    "        # model log probability\n",
    "        log_p_model_x = -energy  + self.c\n",
    "        # noise log probability\n",
    "        log_p_noise_x = self.noise_dist.log_prob(x)\n",
    "                \n",
    "        return torch.sigmoid(log_p_model_x - log_p_noise_x)"
   ]
  },
  {
   "cell_type": "code",
   "execution_count": 5,
   "metadata": {},
   "outputs": [],
   "source": [
    "ds = TensorDataset(x, y)\n",
    "dl = DataLoader(ds, batch_size=10, shuffle=True)"
   ]
  },
  {
   "cell_type": "code",
   "execution_count": 6,
   "metadata": {},
   "outputs": [],
   "source": [
    "model = Model(noise_dist)\n",
    "loss_func = nn.BCELoss()\n",
    "opt = optim.SGD(model.parameters(), lr=1e-2)"
   ]
  },
  {
   "cell_type": "code",
   "execution_count": 7,
   "metadata": {},
   "outputs": [
    {
     "name": "stdout",
     "output_type": "stream",
     "text": [
      "Loss in epoch 10 = 0.81\n",
      "Loss in epoch 20 = 0.67\n",
      "Loss in epoch 30 = 0.62\n",
      "Loss in epoch 40 = 0.60\n",
      "Loss in epoch 50 = 0.60\n",
      "Loss in epoch 60 = 0.59\n",
      "Loss in epoch 70 = 0.59\n",
      "Loss in epoch 80 = 0.59\n",
      "Loss in epoch 90 = 0.59\n",
      "Loss in epoch 100 = 0.59\n"
     ]
    }
   ],
   "source": [
    "for epoch in range(1, 101):\n",
    "    for x_batch, y_batch, in dl:\n",
    "        y_pred = model(x_batch)\n",
    "        \n",
    "        loss = loss_func(y_pred, y_batch)        \n",
    "        loss.backward()\n",
    "        \n",
    "        opt.step()\n",
    "        opt.zero_grad()\n",
    "\n",
    "    if epoch % 10 == 0:\n",
    "        with torch.no_grad():\n",
    "            loss = loss_func(model(x), y)\n",
    "            print(f'Loss in epoch {epoch} = {loss:.2f}')"
   ]
  },
  {
   "cell_type": "markdown",
   "metadata": {},
   "source": [
    "## Results"
   ]
  },
  {
   "cell_type": "code",
   "execution_count": 8,
   "metadata": {},
   "outputs": [
    {
     "data": {
      "text/plain": [
       "(3.199166774749756, 3.2)"
      ]
     },
     "execution_count": 8,
     "metadata": {},
     "output_type": "execute_result"
    }
   ],
   "source": [
    "# estimated mean, true mean\n",
    "model.m.item(), mu"
   ]
  },
  {
   "cell_type": "code",
   "execution_count": 9,
   "metadata": {},
   "outputs": [
    {
     "data": {
      "text/plain": [
       "(1.9766186475753784, 1.9)"
      ]
     },
     "execution_count": 9,
     "metadata": {},
     "output_type": "execute_result"
    }
   ],
   "source": [
    "# estimated sigma, true sigma\n",
    "model.s.item(), sigma"
   ]
  },
  {
   "cell_type": "code",
   "execution_count": 10,
   "metadata": {},
   "outputs": [
    {
     "data": {
      "text/plain": [
       "(4.781052868295946, 4.7625937217989005)"
      ]
     },
     "execution_count": 10,
     "metadata": {},
     "output_type": "execute_result"
    }
   ],
   "source": [
    "# estimated Z, true Z\n",
    "np.exp(-model.c.item()), 1 / np.sqrt(1 / (2 * np.pi * sigma ** 2)) "
   ]
  },
  {
   "cell_type": "code",
   "execution_count": 11,
   "metadata": {},
   "outputs": [
    {
     "data": {
      "image/png": "[encoded data removed]",
      "text/plain": [
       "<Figure size 432x288 with 1 Axes>"
      ]
     },
     "metadata": {
      "needs_background": "light"
     },
     "output_type": "display_data"
    }
   ],
   "source": [
    "with torch.no_grad():\n",
    "    y_pred = model(x)\n",
    "    \n",
    "plt.scatter(x, y_pred, marker='.', lw=0.5)\n",
    "plt.title('In-distribution probability');"
   ]
  }
 ],
 "metadata": {
  "kernelspec": {
   "display_name": "Python 3",
   "language": "python",
   "name": "python3"
  },
  "language_info": {
   "codemirror_mode": {
    "name": "ipython",
    "version": 3
   },
   "file_extension": ".py",
   "mimetype": "text/x-python",
   "name": "python",
   "nbconvert_exporter": "python",
   "pygments_lexer": "ipython3",
   "version": "3.9.1"
  }
 },
 "nbformat": 4,
 "nbformat_minor": 4
}
