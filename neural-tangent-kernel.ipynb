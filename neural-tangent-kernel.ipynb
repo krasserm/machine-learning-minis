{
 "cells": [
  {
   "cell_type": "markdown",
   "metadata": {},
   "source": [
    "## Neural tangent kernel\n",
    "\n",
    "https://www.inference.vc/neural-tangent-kernels-some-intuition-for-kernel-gradient-descent/"
   ]
  },
  {
   "cell_type": "code",
   "execution_count": 1,
   "metadata": {},
   "outputs": [],
   "source": [
    "import numpy as np\n",
    "import jax.numpy as jnp\n",
    "import matplotlib.pyplot as plt\n",
    "\n",
    "from jax import jacrev, jit, vmap\n",
    "\n",
    "%matplotlib inline"
   ]
  },
  {
   "cell_type": "code",
   "execution_count": 2,
   "metadata": {},
   "outputs": [],
   "source": [
    "def f(theta, x):\n",
    "    return theta[0] * x + theta[1]\n",
    "\n",
    "\n",
    "def f_map(thetas, x):\n",
    "    return vmap(lambda theta: f(theta, x))(thetas)\n",
    "\n",
    "\n",
    "\n",
    "def l(theta, x, y):\n",
    "    return jnp.square(y - f(theta, x))\n",
    "\n",
    "\n",
    "def l_grad(theta, x, y):\n",
    "    return jacrev(l)(theta, x, y)\n",
    "\n",
    "\n",
    "@jit\n",
    "def ntk(x_train, y_train, x_test, theta, eta):\n",
    "    # gradient step per training example\n",
    "    theta_step = eta * l_grad(theta, x_train, y_train)\n",
    "    theta_new = theta - theta_step\n",
    "    \n",
    "    # overall gradient step\n",
    "    theta_step_mean = jnp.mean(theta_step, axis=0)\n",
    "    \n",
    "    # kernel matrix (#train, #test) \n",
    "    k = (f_map(theta_new, x_test) - f(theta, x_test)) / eta\n",
    "\n",
    "    return k, theta - theta_step_mean"
   ]
  },
  {
   "cell_type": "code",
   "execution_count": 3,
   "metadata": {},
   "outputs": [],
   "source": [
    "theta_0 = jnp.array([0.0, 0.0])\n",
    "\n",
    "x_train = jnp.array([-3.0, 5.0, 10.0])\n",
    "y_train = jnp.array([-12.0, 20.0, 50.0])\n",
    "\n",
    "x_test = jnp.arange(-10.0, 20.0)"
   ]
  },
  {
   "cell_type": "code",
   "execution_count": 4,
   "metadata": {},
   "outputs": [],
   "source": [
    "kernel, _ = ntk(x_train, y_train, x_test, theta_0, eta=0.01)"
   ]
  },
  {
   "cell_type": "code",
   "execution_count": 5,
   "metadata": {},
   "outputs": [
    {
     "data": {
      "image/png": "[encoded data removed]",
      "text/plain": [
       "<Figure size 432x288 with 1 Axes>"
      ]
     },
     "metadata": {
      "needs_background": "light"
     },
     "output_type": "display_data"
    }
   ],
   "source": [
    "plt.plot(x_test, f(theta_0, x_test), c='k')\n",
    "plt.quiver(x_test, f(theta_0, x_test), jnp.zeros_like(x_test), jnp.sum(kernel, axis=0), color='r')\n",
    "plt.scatter(x_train, y_train, c='b')\n",
    "plt.ylim(-50, 100);"
   ]
  },
  {
   "cell_type": "code",
   "execution_count": 6,
   "metadata": {},
   "outputs": [],
   "source": [
    "theta = theta_0\n",
    "\n",
    "for i in range(1000):\n",
    "    kernel, theta = ntk(x_train, y_train, x_test, theta, eta=0.01)"
   ]
  },
  {
   "cell_type": "code",
   "execution_count": 7,
   "metadata": {},
   "outputs": [
    {
     "data": {
      "image/png": "[encoded data removed]",
      "text/plain": [
       "<Figure size 432x288 with 1 Axes>"
      ]
     },
     "metadata": {
      "needs_background": "light"
     },
     "output_type": "display_data"
    }
   ],
   "source": [
    "plt.plot(x_test, f(theta_0, x_test), c='k')\n",
    "plt.plot(x_test, f(theta, x_test), c='b')\n",
    "plt.scatter(x_train, y_train, c='b')\n",
    "plt.ylim(-50, 100);"
   ]
  },
  {
   "cell_type": "code",
   "execution_count": 8,
   "metadata": {},
   "outputs": [
    {
     "data": {
      "text/plain": [
       "DeviceArray([-3.9672852e-04,  0.0000000e+00,  3.9672852e-04,\n",
       "              7.6293945e-04, -1.8310547e-04, -5.4931641e-04,\n",
       "             -1.8310547e-04,  0.0000000e+00,  0.0000000e+00,\n",
       "              2.2888184e-05,  5.2452087e-06,  0.0000000e+00,\n",
       "              0.0000000e+00,  0.0000000e+00, -1.8310547e-04,\n",
       "              2.1362305e-04, -1.8310547e-04,  0.0000000e+00,\n",
       "              3.9672852e-04,  7.6293945e-04,  1.1291504e-03,\n",
       "              0.0000000e+00,  4.2724609e-04,  8.5449219e-04,\n",
       "             -7.3242188e-04,  7.3242188e-04,  0.0000000e+00,\n",
       "             -7.3242188e-04,  8.5449219e-04,  6.1035156e-05],            dtype=float32)"
      ]
     },
     "execution_count": 8,
     "metadata": {},
     "output_type": "execute_result"
    }
   ],
   "source": [
    "jnp.sum(kernel, axis=0)"
   ]
  },
  {
   "cell_type": "code",
   "execution_count": null,
   "metadata": {},
   "outputs": [],
   "source": []
  }
 ],
 "metadata": {
  "kernelspec": {
   "display_name": "Python 3",
   "language": "python",
   "name": "python3"
  },
  "language_info": {
   "codemirror_mode": {
    "name": "ipython",
    "version": 3
   },
   "file_extension": ".py",
   "mimetype": "text/x-python",
   "name": "python",
   "nbconvert_exporter": "python",
   "pygments_lexer": "ipython3",
   "version": "3.9.1"
  }
 },
 "nbformat": 4,
 "nbformat_minor": 4
}
