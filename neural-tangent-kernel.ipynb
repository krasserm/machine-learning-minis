{
 "cells": [
  {
   "cell_type": "markdown",
   "metadata": {},
   "source": [
    "## Neural tangent kernel\n",
    "\n",
    "See https://www.inference.vc/neural-tangent-kernels-some-intuition-for-kernel-gradient-descent/ for details. That article explains how sensitive function values at locations $\\mathbf{x}$ are to a prediction error at a *single* location $x'$. This is quantified by the *neural tangent kernel* $k_\\theta({\\mathbf{x}, x'})$ in the limit of infinitely wide neural networks and infinitesimally small gradient descent steps. In this limit, gradient descent can be understood as *kernel gradient descent* with a fixed kernel. \n",
    "\n",
    "The following example however uses much simpler models (`f_linear` and `f_rbf`), not infinitely wide neural networks. In this case, the kernel changes during optimization. The following example also visualizes how sensitive function values at locations $\\mathbf{x}$ are to prediction errors at *multiple* locations $\\mathbf{x}'$. I've mainly written this code to get a better initial understanding of the linked article. I still have to read further papers on this topic to get a deeper understanding, so please take everything in this notebook with a grain of salt."
   ]
  },
  {
   "cell_type": "code",
   "execution_count": 1,
   "metadata": {},
   "outputs": [],
   "source": [
    "import numpy as np\n",
    "import jax.numpy as jnp\n",
    "import matplotlib.pyplot as plt\n",
    "\n",
    "from functools import partial\n",
    "from jax import jacrev, jit, vmap\n",
    "\n",
    "%matplotlib inline"
   ]
  },
  {
   "cell_type": "code",
   "execution_count": 2,
   "metadata": {},
   "outputs": [],
   "source": [
    "def f_linear(theta, x):\n",
    "    \"\"\"Linear model.\"\"\"\n",
    "    return theta[0] * x + theta[1]\n",
    "\n",
    "\n",
    "def f_rbf(theta, x):\n",
    "    \"\"\"Non-linear model with squared exponential basis functions.\"\"\"    \n",
    "    return theta[0] * jnp.exp(-((x - theta[1]) ** 2 / 30.0)) + \\\n",
    "           theta[2] * jnp.exp(-((x - theta[3]) ** 2 / 30.0)) + \\\n",
    "           theta[4]\n",
    "\n",
    "\n",
    "f = f_rbf"
   ]
  },
  {
   "cell_type": "code",
   "execution_count": 3,
   "metadata": {},
   "outputs": [],
   "source": [
    "\n",
    "@partial(jit, static_argnums=(0,))\n",
    "def kernel_grad(f, theta, x_train, y_train, x_test, eta):\n",
    "    \"\"\"\n",
    "    Computes kernel gradient of f under squared error loss.\n",
    "    \n",
    "    Returns a matrix that quantifies how sensitive function\n",
    "    values at x_test are to prediction errors at x_train. Also\n",
    "    returns updated parameters from a single gradient descent\n",
    "    step (with learning rate eta).\n",
    "    \"\"\"\n",
    "    \n",
    "    # gradient of squared error loss w.r.t. theta\n",
    "    l_grd = jacrev(lambda theta: jnp.square(y_train - f(theta, x_train)))\n",
    "    # version of f that can be applied to multiple values of theta \n",
    "    f_map = vmap(lambda theta: f(theta, x_test))\n",
    "    \n",
    "    # gradient step per training example\n",
    "    theta_step = eta * l_grd(theta)\n",
    "    theta_new = theta - theta_step\n",
    "    \n",
    "    # overall gradient step\n",
    "    theta_step_mean = jnp.mean(theta_step, axis=0)\n",
    "    \n",
    "    # Change in function values (#x_train, #x_test). Describes \n",
    "    # how sensitive function values at locations x_test are to \n",
    "    # prediction errors at locations x_train.\n",
    "    k = (f_map(theta_new) - f(theta, x_test)) / eta\n",
    "\n",
    "    return k, theta - theta_step_mean\n",
    "\n",
    "\n",
    "def plot_change(f, theta, x_train, y_train, x_test, k, scale=100):\n",
    "    plt.scatter(x_train, y_train, c='b');\n",
    "    plt.plot(x_test, f(theta, x_test), c='b')\n",
    "    plt.quiver(x_test, f(theta, x_test), jnp.zeros_like(x_test), jnp.sum(k, axis=0), color='r', scale=scale)"
   ]
  },
  {
   "cell_type": "code",
   "execution_count": 4,
   "metadata": {},
   "outputs": [],
   "source": [
    "eta = 0.01\n",
    "\n",
    "theta_0_linear = jnp.array([0.0, 0.0])\n",
    "theta_0_rbf = jnp.array([4.0, -10.0, 25.0, 10.0, 50.0])\n",
    "\n",
    "x_train = jnp.array([-3.0, 5.0, 10.0])\n",
    "y_train = jnp.array([-12.0, 20.0, 50.0])\n",
    "\n",
    "x_test = jnp.arange(-10.0, 20.0)"
   ]
  },
  {
   "cell_type": "code",
   "execution_count": 5,
   "metadata": {},
   "outputs": [],
   "source": [
    "if f == f_linear:\n",
    "    theta_0 = theta_0_linear\n",
    "else:\n",
    "    theta_0 = theta_0_rbf"
   ]
  },
  {
   "cell_type": "code",
   "execution_count": 6,
   "metadata": {},
   "outputs": [],
   "source": [
    "# Initial step\n",
    "k, theta = kernel_grad(f, theta_0, x_train, y_train, x_test, eta=eta)"
   ]
  },
  {
   "cell_type": "code",
   "execution_count": 10,
   "metadata": {},
   "outputs": [
    {
     "data": {
      "image/png": "[encoded data removed]",
      "text/plain": [
       "<Figure size 432x288 with 1 Axes>"
      ]
     },
     "metadata": {
      "needs_background": "light"
     },
     "output_type": "display_data"
    }
   ],
   "source": [
    "# -----------------------------------------\n",
    "#  Run this cell repeatedly to see updates\n",
    "# -----------------------------------------\n",
    "\n",
    "plot_change(f, theta, x_train, y_train, x_test, k, scale=100)\n",
    "\n",
    "for i in range(100):\n",
    "    k, theta = kernel_grad(f, theta, x_train, y_train, x_test, eta=eta)"
   ]
  }
 ],
 "metadata": {
  "kernelspec": {
   "display_name": "Python 3",
   "language": "python",
   "name": "python3"
  },
  "language_info": {
   "codemirror_mode": {
    "name": "ipython",
    "version": 3
   },
   "file_extension": ".py",
   "mimetype": "text/x-python",
   "name": "python",
   "nbconvert_exporter": "python",
   "pygments_lexer": "ipython3",
   "version": "3.9.1"
  }
 },
 "nbformat": 4,
 "nbformat_minor": 4
}
